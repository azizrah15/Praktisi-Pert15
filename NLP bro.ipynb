{
  "nbformat": 4,
  "nbformat_minor": 0,
  "metadata": {
    "colab": {
      "provenance": [],
      "authorship_tag": "ABX9TyMixKGhby44Ii03tSZzszpE",
      "include_colab_link": true
    },
    "kernelspec": {
      "name": "python3",
      "display_name": "Python 3"
    },
    "language_info": {
      "name": "python"
    }
  },
  "cells": [
    {
      "cell_type": "markdown",
      "metadata": {
        "id": "view-in-github",
        "colab_type": "text"
      },
      "source": [
        "<a href=\"https://colab.research.google.com/github/azizrah15/Praktisi-Pert15/blob/main/NLP%20bro.ipynb\" target=\"_parent\"><img src=\"https://colab.research.google.com/assets/colab-badge.svg\" alt=\"Open In Colab\"/></a>"
      ]
    },
    {
      "cell_type": "code",
      "execution_count": null,
      "metadata": {
        "colab": {
          "base_uri": "https://localhost:8080/"
        },
        "id": "91RBCHnCkv0H",
        "outputId": "14bb63d1-e0e6-40fa-e928-19c9fa6a2399"
      },
      "outputs": [
        {
          "output_type": "stream",
          "name": "stdout",
          "text": [
            "Requirement already satisfied: nltk in /usr/local/lib/python3.10/dist-packages (3.8.1)\n",
            "Requirement already satisfied: pandas in /usr/local/lib/python3.10/dist-packages (2.2.2)\n",
            "Requirement already satisfied: Sastrawi in /usr/local/lib/python3.10/dist-packages (1.0.1)\n",
            "Requirement already satisfied: click in /usr/local/lib/python3.10/dist-packages (from nltk) (8.1.7)\n",
            "Requirement already satisfied: joblib in /usr/local/lib/python3.10/dist-packages (from nltk) (1.4.2)\n",
            "Requirement already satisfied: regex>=2021.8.3 in /usr/local/lib/python3.10/dist-packages (from nltk) (2024.9.11)\n",
            "Requirement already satisfied: tqdm in /usr/local/lib/python3.10/dist-packages (from nltk) (4.66.6)\n",
            "Requirement already satisfied: numpy>=1.22.4 in /usr/local/lib/python3.10/dist-packages (from pandas) (1.26.4)\n",
            "Requirement already satisfied: python-dateutil>=2.8.2 in /usr/local/lib/python3.10/dist-packages (from pandas) (2.8.2)\n",
            "Requirement already satisfied: pytz>=2020.1 in /usr/local/lib/python3.10/dist-packages (from pandas) (2024.2)\n",
            "Requirement already satisfied: tzdata>=2022.7 in /usr/local/lib/python3.10/dist-packages (from pandas) (2024.2)\n",
            "Requirement already satisfied: six>=1.5 in /usr/local/lib/python3.10/dist-packages (from python-dateutil>=2.8.2->pandas) (1.16.0)\n"
          ]
        }
      ],
      "source": [
        "pip install nltk pandas Sastrawi"
      ]
    },
    {
      "cell_type": "code",
      "source": [
        "# Import libraries\n",
        "import pandas as pd\n",
        "import nltk\n",
        "from Sastrawi.Stemmer.StemmerFactory import StemmerFactory\n",
        "from sklearn.feature_extraction.text import TfidfVectorizer, CountVectorizer\n",
        "from nltk.corpus import stopwords\n",
        "from nltk.tokenize import word_tokenize\n",
        "import re"
      ],
      "metadata": {
        "id": "gCuv5QQvlkFc"
      },
      "execution_count": null,
      "outputs": []
    },
    {
      "cell_type": "code",
      "source": [
        "# Download stopwords untuk bahasa Indonesia\n",
        "nltk.download('stopwords')\n",
        "nltk.download('punkt')\n",
        "\n",
        "# Menambahkan stopwords bahasa Indonesia\n",
        "stop_words = set(stopwords.words('indonesian'))"
      ],
      "metadata": {
        "colab": {
          "base_uri": "https://localhost:8080/"
        },
        "id": "gPrGjjWNlpUv",
        "outputId": "3cfd5bab-0a7e-490d-ebbc-679fdfb72f49"
      },
      "execution_count": null,
      "outputs": [
        {
          "output_type": "stream",
          "name": "stderr",
          "text": [
            "[nltk_data] Downloading package stopwords to /root/nltk_data...\n",
            "[nltk_data]   Package stopwords is already up-to-date!\n",
            "[nltk_data] Downloading package punkt to /root/nltk_data...\n",
            "[nltk_data]   Package punkt is already up-to-date!\n"
          ]
        }
      ]
    },
    {
      "cell_type": "code",
      "source": [
        "# Load data dari file Excel/CSV\n",
        "# Load your dataset\n",
        "file_path = ('/content/brimo_appstore_reviews.csv')\n",
        "df = pd.read_csv(file_path)"
      ],
      "metadata": {
        "id": "ns2irJVblsoz"
      },
      "execution_count": null,
      "outputs": []
    },
    {
      "cell_type": "code",
      "source": [
        "df.info()"
      ],
      "metadata": {
        "colab": {
          "base_uri": "https://localhost:8080/"
        },
        "id": "jHYo3zXZlwDq",
        "outputId": "005ef8ae-575f-4b4e-c008-3abd6793a210"
      },
      "execution_count": null,
      "outputs": [
        {
          "output_type": "stream",
          "name": "stdout",
          "text": [
            "<class 'pandas.core.frame.DataFrame'>\n",
            "RangeIndex: 466 entries, 0 to 465\n",
            "Data columns (total 7 columns):\n",
            " #   Column             Non-Null Count  Dtype \n",
            "---  ------             --------------  ----- \n",
            " 0   Unnamed: 0         466 non-null    int64 \n",
            " 1   date               466 non-null    object\n",
            " 2   developerResponse  112 non-null    object\n",
            " 3   review             466 non-null    object\n",
            " 4   rating             466 non-null    int64 \n",
            " 5   isEdited           466 non-null    bool  \n",
            " 6   title              466 non-null    object\n",
            "dtypes: bool(1), int64(2), object(4)\n",
            "memory usage: 22.4+ KB\n"
          ]
        }
      ]
    },
    {
      "cell_type": "code",
      "source": [
        "# Menampilkan data awal (cek kolom teks)\n",
        "print(\"Data awal:\\n\", df.head())"
      ],
      "metadata": {
        "colab": {
          "base_uri": "https://localhost:8080/"
        },
        "id": "4nQjLZzdmWuk",
        "outputId": "3c5c27ab-1688-4e61-8f93-f6a0124cf7e5"
      },
      "execution_count": null,
      "outputs": [
        {
          "output_type": "stream",
          "name": "stdout",
          "text": [
            "Data awal:\n",
            "    Unnamed: 0             date  \\\n",
            "0           0  1/31/2023 15:37   \n",
            "1           1  1/31/2023 17:13   \n",
            "2           2  1/31/2023 13:43   \n",
            "3           3  1/31/2023 11:38   \n",
            "4           4  1/31/2023 11:26   \n",
            "\n",
            "                                   developerResponse  \\\n",
            "0                                                NaN   \n",
            "1  {'id': 34631786, 'body': 'Hai Sobat BRI, jika ...   \n",
            "2                                                NaN   \n",
            "3                                                NaN   \n",
            "4                                                NaN   \n",
            "\n",
            "                                              review  rating  isEdited  \\\n",
            "0  baguss cuma please transfer ke bank lain janga...       5     False   \n",
            "1  Notifikasi brimo saya matikan, krna pemilihan ...       2     False   \n",
            "2  Top,, Lebih mudah transaksi  menggunakan BRIMO...       5     False   \n",
            "3                                 Memudahkan hidupku       5     False   \n",
            "4                              Mantap keren membantu       5     False   \n",
            "\n",
            "                            title  \n",
            "0                           bagus  \n",
            "1    Bijak dalam kirim push notif  \n",
            "2  TRANSAKSI MUDAH DAN AMAN BRIMO  \n",
            "3                           bagus  \n",
            "4      Aplikasi nya mantap sekali  \n"
          ]
        }
      ]
    },
    {
      "cell_type": "code",
      "source": [
        "df.head()"
      ],
      "metadata": {
        "colab": {
          "base_uri": "https://localhost:8080/",
          "height": 310
        },
        "id": "UvauO8Vrm5CQ",
        "outputId": "df3192eb-6ca6-40a6-bc1d-2e9d2f54dbb1"
      },
      "execution_count": null,
      "outputs": [
        {
          "output_type": "execute_result",
          "data": {
            "text/plain": [
              "   Unnamed: 0             date  \\\n",
              "0           0  1/31/2023 15:37   \n",
              "1           1  1/31/2023 17:13   \n",
              "2           2  1/31/2023 13:43   \n",
              "3           3  1/31/2023 11:38   \n",
              "4           4  1/31/2023 11:26   \n",
              "\n",
              "                                   developerResponse  \\\n",
              "0                                                NaN   \n",
              "1  {'id': 34631786, 'body': 'Hai Sobat BRI, jika ...   \n",
              "2                                                NaN   \n",
              "3                                                NaN   \n",
              "4                                                NaN   \n",
              "\n",
              "                                              review  rating  isEdited  \\\n",
              "0  baguss cuma please transfer ke bank lain janga...       5     False   \n",
              "1  Notifikasi brimo saya matikan, krna pemilihan ...       2     False   \n",
              "2  Top,, Lebih mudah transaksi  menggunakan BRIMO...       5     False   \n",
              "3                                 Memudahkan hidupku       5     False   \n",
              "4                              Mantap keren membantu       5     False   \n",
              "\n",
              "                            title  \n",
              "0                           bagus  \n",
              "1    Bijak dalam kirim push notif  \n",
              "2  TRANSAKSI MUDAH DAN AMAN BRIMO  \n",
              "3                           bagus  \n",
              "4      Aplikasi nya mantap sekali  "
            ],
            "text/html": [
              "\n",
              "  <div id=\"df-f7a7c493-6836-48ec-9636-4a12c5c39025\" class=\"colab-df-container\">\n",
              "    <div>\n",
              "<style scoped>\n",
              "    .dataframe tbody tr th:only-of-type {\n",
              "        vertical-align: middle;\n",
              "    }\n",
              "\n",
              "    .dataframe tbody tr th {\n",
              "        vertical-align: top;\n",
              "    }\n",
              "\n",
              "    .dataframe thead th {\n",
              "        text-align: right;\n",
              "    }\n",
              "</style>\n",
              "<table border=\"1\" class=\"dataframe\">\n",
              "  <thead>\n",
              "    <tr style=\"text-align: right;\">\n",
              "      <th></th>\n",
              "      <th>Unnamed: 0</th>\n",
              "      <th>date</th>\n",
              "      <th>developerResponse</th>\n",
              "      <th>review</th>\n",
              "      <th>rating</th>\n",
              "      <th>isEdited</th>\n",
              "      <th>title</th>\n",
              "    </tr>\n",
              "  </thead>\n",
              "  <tbody>\n",
              "    <tr>\n",
              "      <th>0</th>\n",
              "      <td>0</td>\n",
              "      <td>1/31/2023 15:37</td>\n",
              "      <td>NaN</td>\n",
              "      <td>baguss cuma please transfer ke bank lain janga...</td>\n",
              "      <td>5</td>\n",
              "      <td>False</td>\n",
              "      <td>bagus</td>\n",
              "    </tr>\n",
              "    <tr>\n",
              "      <th>1</th>\n",
              "      <td>1</td>\n",
              "      <td>1/31/2023 17:13</td>\n",
              "      <td>{'id': 34631786, 'body': 'Hai Sobat BRI, jika ...</td>\n",
              "      <td>Notifikasi brimo saya matikan, krna pemilihan ...</td>\n",
              "      <td>2</td>\n",
              "      <td>False</td>\n",
              "      <td>Bijak dalam kirim push notif</td>\n",
              "    </tr>\n",
              "    <tr>\n",
              "      <th>2</th>\n",
              "      <td>2</td>\n",
              "      <td>1/31/2023 13:43</td>\n",
              "      <td>NaN</td>\n",
              "      <td>Top,, Lebih mudah transaksi  menggunakan BRIMO...</td>\n",
              "      <td>5</td>\n",
              "      <td>False</td>\n",
              "      <td>TRANSAKSI MUDAH DAN AMAN BRIMO</td>\n",
              "    </tr>\n",
              "    <tr>\n",
              "      <th>3</th>\n",
              "      <td>3</td>\n",
              "      <td>1/31/2023 11:38</td>\n",
              "      <td>NaN</td>\n",
              "      <td>Memudahkan hidupku</td>\n",
              "      <td>5</td>\n",
              "      <td>False</td>\n",
              "      <td>bagus</td>\n",
              "    </tr>\n",
              "    <tr>\n",
              "      <th>4</th>\n",
              "      <td>4</td>\n",
              "      <td>1/31/2023 11:26</td>\n",
              "      <td>NaN</td>\n",
              "      <td>Mantap keren membantu</td>\n",
              "      <td>5</td>\n",
              "      <td>False</td>\n",
              "      <td>Aplikasi nya mantap sekali</td>\n",
              "    </tr>\n",
              "  </tbody>\n",
              "</table>\n",
              "</div>\n",
              "    <div class=\"colab-df-buttons\">\n",
              "\n",
              "  <div class=\"colab-df-container\">\n",
              "    <button class=\"colab-df-convert\" onclick=\"convertToInteractive('df-f7a7c493-6836-48ec-9636-4a12c5c39025')\"\n",
              "            title=\"Convert this dataframe to an interactive table.\"\n",
              "            style=\"display:none;\">\n",
              "\n",
              "  <svg xmlns=\"http://www.w3.org/2000/svg\" height=\"24px\" viewBox=\"0 -960 960 960\">\n",
              "    <path d=\"M120-120v-720h720v720H120Zm60-500h600v-160H180v160Zm220 220h160v-160H400v160Zm0 220h160v-160H400v160ZM180-400h160v-160H180v160Zm440 0h160v-160H620v160ZM180-180h160v-160H180v160Zm440 0h160v-160H620v160Z\"/>\n",
              "  </svg>\n",
              "    </button>\n",
              "\n",
              "  <style>\n",
              "    .colab-df-container {\n",
              "      display:flex;\n",
              "      gap: 12px;\n",
              "    }\n",
              "\n",
              "    .colab-df-convert {\n",
              "      background-color: #E8F0FE;\n",
              "      border: none;\n",
              "      border-radius: 50%;\n",
              "      cursor: pointer;\n",
              "      display: none;\n",
              "      fill: #1967D2;\n",
              "      height: 32px;\n",
              "      padding: 0 0 0 0;\n",
              "      width: 32px;\n",
              "    }\n",
              "\n",
              "    .colab-df-convert:hover {\n",
              "      background-color: #E2EBFA;\n",
              "      box-shadow: 0px 1px 2px rgba(60, 64, 67, 0.3), 0px 1px 3px 1px rgba(60, 64, 67, 0.15);\n",
              "      fill: #174EA6;\n",
              "    }\n",
              "\n",
              "    .colab-df-buttons div {\n",
              "      margin-bottom: 4px;\n",
              "    }\n",
              "\n",
              "    [theme=dark] .colab-df-convert {\n",
              "      background-color: #3B4455;\n",
              "      fill: #D2E3FC;\n",
              "    }\n",
              "\n",
              "    [theme=dark] .colab-df-convert:hover {\n",
              "      background-color: #434B5C;\n",
              "      box-shadow: 0px 1px 3px 1px rgba(0, 0, 0, 0.15);\n",
              "      filter: drop-shadow(0px 1px 2px rgba(0, 0, 0, 0.3));\n",
              "      fill: #FFFFFF;\n",
              "    }\n",
              "  </style>\n",
              "\n",
              "    <script>\n",
              "      const buttonEl =\n",
              "        document.querySelector('#df-f7a7c493-6836-48ec-9636-4a12c5c39025 button.colab-df-convert');\n",
              "      buttonEl.style.display =\n",
              "        google.colab.kernel.accessAllowed ? 'block' : 'none';\n",
              "\n",
              "      async function convertToInteractive(key) {\n",
              "        const element = document.querySelector('#df-f7a7c493-6836-48ec-9636-4a12c5c39025');\n",
              "        const dataTable =\n",
              "          await google.colab.kernel.invokeFunction('convertToInteractive',\n",
              "                                                    [key], {});\n",
              "        if (!dataTable) return;\n",
              "\n",
              "        const docLinkHtml = 'Like what you see? Visit the ' +\n",
              "          '<a target=\"_blank\" href=https://colab.research.google.com/notebooks/data_table.ipynb>data table notebook</a>'\n",
              "          + ' to learn more about interactive tables.';\n",
              "        element.innerHTML = '';\n",
              "        dataTable['output_type'] = 'display_data';\n",
              "        await google.colab.output.renderOutput(dataTable, element);\n",
              "        const docLink = document.createElement('div');\n",
              "        docLink.innerHTML = docLinkHtml;\n",
              "        element.appendChild(docLink);\n",
              "      }\n",
              "    </script>\n",
              "  </div>\n",
              "\n",
              "\n",
              "<div id=\"df-de75c614-f453-404f-b651-bdeaa4a0368e\">\n",
              "  <button class=\"colab-df-quickchart\" onclick=\"quickchart('df-de75c614-f453-404f-b651-bdeaa4a0368e')\"\n",
              "            title=\"Suggest charts\"\n",
              "            style=\"display:none;\">\n",
              "\n",
              "<svg xmlns=\"http://www.w3.org/2000/svg\" height=\"24px\"viewBox=\"0 0 24 24\"\n",
              "     width=\"24px\">\n",
              "    <g>\n",
              "        <path d=\"M19 3H5c-1.1 0-2 .9-2 2v14c0 1.1.9 2 2 2h14c1.1 0 2-.9 2-2V5c0-1.1-.9-2-2-2zM9 17H7v-7h2v7zm4 0h-2V7h2v10zm4 0h-2v-4h2v4z\"/>\n",
              "    </g>\n",
              "</svg>\n",
              "  </button>\n",
              "\n",
              "<style>\n",
              "  .colab-df-quickchart {\n",
              "      --bg-color: #E8F0FE;\n",
              "      --fill-color: #1967D2;\n",
              "      --hover-bg-color: #E2EBFA;\n",
              "      --hover-fill-color: #174EA6;\n",
              "      --disabled-fill-color: #AAA;\n",
              "      --disabled-bg-color: #DDD;\n",
              "  }\n",
              "\n",
              "  [theme=dark] .colab-df-quickchart {\n",
              "      --bg-color: #3B4455;\n",
              "      --fill-color: #D2E3FC;\n",
              "      --hover-bg-color: #434B5C;\n",
              "      --hover-fill-color: #FFFFFF;\n",
              "      --disabled-bg-color: #3B4455;\n",
              "      --disabled-fill-color: #666;\n",
              "  }\n",
              "\n",
              "  .colab-df-quickchart {\n",
              "    background-color: var(--bg-color);\n",
              "    border: none;\n",
              "    border-radius: 50%;\n",
              "    cursor: pointer;\n",
              "    display: none;\n",
              "    fill: var(--fill-color);\n",
              "    height: 32px;\n",
              "    padding: 0;\n",
              "    width: 32px;\n",
              "  }\n",
              "\n",
              "  .colab-df-quickchart:hover {\n",
              "    background-color: var(--hover-bg-color);\n",
              "    box-shadow: 0 1px 2px rgba(60, 64, 67, 0.3), 0 1px 3px 1px rgba(60, 64, 67, 0.15);\n",
              "    fill: var(--button-hover-fill-color);\n",
              "  }\n",
              "\n",
              "  .colab-df-quickchart-complete:disabled,\n",
              "  .colab-df-quickchart-complete:disabled:hover {\n",
              "    background-color: var(--disabled-bg-color);\n",
              "    fill: var(--disabled-fill-color);\n",
              "    box-shadow: none;\n",
              "  }\n",
              "\n",
              "  .colab-df-spinner {\n",
              "    border: 2px solid var(--fill-color);\n",
              "    border-color: transparent;\n",
              "    border-bottom-color: var(--fill-color);\n",
              "    animation:\n",
              "      spin 1s steps(1) infinite;\n",
              "  }\n",
              "\n",
              "  @keyframes spin {\n",
              "    0% {\n",
              "      border-color: transparent;\n",
              "      border-bottom-color: var(--fill-color);\n",
              "      border-left-color: var(--fill-color);\n",
              "    }\n",
              "    20% {\n",
              "      border-color: transparent;\n",
              "      border-left-color: var(--fill-color);\n",
              "      border-top-color: var(--fill-color);\n",
              "    }\n",
              "    30% {\n",
              "      border-color: transparent;\n",
              "      border-left-color: var(--fill-color);\n",
              "      border-top-color: var(--fill-color);\n",
              "      border-right-color: var(--fill-color);\n",
              "    }\n",
              "    40% {\n",
              "      border-color: transparent;\n",
              "      border-right-color: var(--fill-color);\n",
              "      border-top-color: var(--fill-color);\n",
              "    }\n",
              "    60% {\n",
              "      border-color: transparent;\n",
              "      border-right-color: var(--fill-color);\n",
              "    }\n",
              "    80% {\n",
              "      border-color: transparent;\n",
              "      border-right-color: var(--fill-color);\n",
              "      border-bottom-color: var(--fill-color);\n",
              "    }\n",
              "    90% {\n",
              "      border-color: transparent;\n",
              "      border-bottom-color: var(--fill-color);\n",
              "    }\n",
              "  }\n",
              "</style>\n",
              "\n",
              "  <script>\n",
              "    async function quickchart(key) {\n",
              "      const quickchartButtonEl =\n",
              "        document.querySelector('#' + key + ' button');\n",
              "      quickchartButtonEl.disabled = true;  // To prevent multiple clicks.\n",
              "      quickchartButtonEl.classList.add('colab-df-spinner');\n",
              "      try {\n",
              "        const charts = await google.colab.kernel.invokeFunction(\n",
              "            'suggestCharts', [key], {});\n",
              "      } catch (error) {\n",
              "        console.error('Error during call to suggestCharts:', error);\n",
              "      }\n",
              "      quickchartButtonEl.classList.remove('colab-df-spinner');\n",
              "      quickchartButtonEl.classList.add('colab-df-quickchart-complete');\n",
              "    }\n",
              "    (() => {\n",
              "      let quickchartButtonEl =\n",
              "        document.querySelector('#df-de75c614-f453-404f-b651-bdeaa4a0368e button');\n",
              "      quickchartButtonEl.style.display =\n",
              "        google.colab.kernel.accessAllowed ? 'block' : 'none';\n",
              "    })();\n",
              "  </script>\n",
              "</div>\n",
              "\n",
              "    </div>\n",
              "  </div>\n"
            ],
            "application/vnd.google.colaboratory.intrinsic+json": {
              "type": "dataframe",
              "variable_name": "df",
              "summary": "{\n  \"name\": \"df\",\n  \"rows\": 466,\n  \"fields\": [\n    {\n      \"column\": \"Unnamed: 0\",\n      \"properties\": {\n        \"dtype\": \"number\",\n        \"std\": 134,\n        \"min\": 0,\n        \"max\": 465,\n        \"num_unique_values\": 466,\n        \"samples\": [\n          55,\n          63,\n          33\n        ],\n        \"semantic_type\": \"\",\n        \"description\": \"\"\n      }\n    },\n    {\n      \"column\": \"date\",\n      \"properties\": {\n        \"dtype\": \"object\",\n        \"num_unique_values\": 461,\n        \"samples\": [\n          \"1/15/2023 5:46\",\n          \"1/30/2023 4:47\",\n          \"1/29/2023 13:48\"\n        ],\n        \"semantic_type\": \"\",\n        \"description\": \"\"\n      }\n    },\n    {\n      \"column\": \"developerResponse\",\n      \"properties\": {\n        \"dtype\": \"category\",\n        \"num_unique_values\": 112,\n        \"samples\": [\n          \"{'id': 34468651, 'body': 'Sobat BRI, mohon maaf atas ketidaknyamanan yang dialami. Guna pengecekan, bisa diinformasikan respon yang diterima berupa gambar melalui WhatsApp resmi BRI 08121214017. Jika sudah tidak mengalami kendala kami harapkan bintang 5 dari Sobat BRI. Tks~Asri', 'modified': '2023-01-25T03:04:37Z'}\",\n          \"{'id': 34308370, 'body': 'Hai Sobat BRI, saat ini aplikasi BRImo dalam keadaan normal. Apabila masih mengalami kendala silakan kirimkan detail kendala melalui Email callbri@bri.co.id. Jika sudah tidak mengalami kendala kami harapkan bintang 5 dari Sobat BRI. Tks~Ulfa', 'modified': '2023-01-16T10:29:26Z'}\",\n          \"{'id': 28851207, 'body': 'Pastikan sudah mengunduh BRImo versi terbaru 2.18.1, apabila mengalami kendala transaksi, mohon kesediaan menyampaikan informasi lengkap melalui email callbri@bri.co.id guna pengecekan dan tindak lanjut. Namun jika sudah tidak mengalami kendala kami harapkan bintang 5 dari Sobat BRI ya. Tks~Tedi', 'modified': '2023-01-30T18:01:50Z'}\"\n        ],\n        \"semantic_type\": \"\",\n        \"description\": \"\"\n      }\n    },\n    {\n      \"column\": \"review\",\n      \"properties\": {\n        \"dtype\": \"string\",\n        \"num_unique_values\": 389,\n        \"samples\": [\n          \"Mantap kali\",\n          \"Tampilan menu mudah dimengerti\",\n          \"Cepat\\u2026 dapat CS yg humble dan menjelaskan dgn jelas dan menjalankan aplikasinya cekatan trampil cepat dan tepat\\u2026 hebat Clara\"\n        ],\n        \"semantic_type\": \"\",\n        \"description\": \"\"\n      }\n    },\n    {\n      \"column\": \"rating\",\n      \"properties\": {\n        \"dtype\": \"number\",\n        \"std\": 1,\n        \"min\": 1,\n        \"max\": 5,\n        \"num_unique_values\": 5,\n        \"samples\": [\n          2,\n          3,\n          4\n        ],\n        \"semantic_type\": \"\",\n        \"description\": \"\"\n      }\n    },\n    {\n      \"column\": \"isEdited\",\n      \"properties\": {\n        \"dtype\": \"boolean\",\n        \"num_unique_values\": 2,\n        \"samples\": [\n          true,\n          false\n        ],\n        \"semantic_type\": \"\",\n        \"description\": \"\"\n      }\n    },\n    {\n      \"column\": \"title\",\n      \"properties\": {\n        \"dtype\": \"string\",\n        \"num_unique_values\": 305,\n        \"samples\": [\n          \"Transaksi tf cepat\",\n          \"Perkara registrasi gagal mulu\"\n        ],\n        \"semantic_type\": \"\",\n        \"description\": \"\"\n      }\n    }\n  ]\n}"
            }
          },
          "metadata": {},
          "execution_count": 26
        }
      ]
    },
    {
      "cell_type": "code",
      "source": [
        "# Step 1: Pre-processing\n",
        "# Inisialisasi stemmer bahasa Indonesia\n",
        "factory = StemmerFactory()\n",
        "stemmer = factory.create_stemmer()"
      ],
      "metadata": {
        "id": "m_hoHjIwoix6"
      },
      "execution_count": null,
      "outputs": []
    },
    {
      "cell_type": "code",
      "source": [
        "# Daftar kata untuk normalisasi\n",
        "normalization_dict = {\n",
        "    \"gak\": \"tidak\",\n",
        "    \"ga\": \"tidak\",\n",
        "    \"nggak\": \"tidak\",\n",
        "    \"kalo\": \"kalau\",\n",
        "    \"aja\": \"saja\",\n",
        "    \"kok\": \"\",\n",
        "    \"sbg\": \"sebagai\",\n",
        "    \"yg\" : \"yang\",\n",
        "    \"tsb\" : \"tersebut\"\n",
        "    # tambahkan kata lain sesuai kebutuhan\n",
        "}"
      ],
      "metadata": {
        "id": "vnW0oObOomr5"
      },
      "execution_count": null,
      "outputs": []
    },
    {
      "cell_type": "code",
      "source": [
        "def normalize_text(text, normalization_dict):\n",
        "    # Ganti kata-kata dalam teks sesuai dengan kamus normalisasi\n",
        "    for word, replacement in normalization_dict.items():\n",
        "        text = re.sub(r'\\b{}\\b'.format(word), replacement, text)\n",
        "    return text"
      ],
      "metadata": {
        "id": "g_fTzZbmoqz1"
      },
      "execution_count": null,
      "outputs": []
    },
    {
      "cell_type": "code",
      "source": [
        "def preprocess_text(text):\n",
        "    # Lowercase\n",
        "    text = text.lower()\n",
        "\n",
        "    # Normalisasi kata-kata dengan menggunakan kamus yang telah ditentukan\n",
        "    text = normalize_text(text, normalization_dict)\n",
        "\n",
        "    # Menghapus karakter non-alfanumerik (misalnya tanda baca, simbol)\n",
        "    text = re.sub(r'[^a-zA-Z0-9\\s]', '', text)\n",
        "    text = re.sub(r'[^\\w\\s]', '', text)\n",
        "    text = re.sub(r'\\d+', '', text)\n",
        "    text = text.lower() # Convert text to lowercase\n",
        "    text = re.sub(r\"http\\S+\", \"\", text) # Remove URLs\n",
        "    text = re.sub(r\"@\\w+\", \"\", text) # Remove mentions\n",
        "    text = re.sub(r\"#\\w+\", \"\", text) # Remove hashtags\n",
        "    text = text.strip() # Remove leading/trailing whitespaces"
      ],
      "metadata": {
        "id": "xUefOwuTouRn"
      },
      "execution_count": null,
      "outputs": []
    },
    {
      "cell_type": "code",
      "source": [
        "# Fungsi untuk melakukan pre-processing pada teks\n",
        "def preprocess_text(text):\n",
        "    # Tokenize\n",
        "    tokens = word_tokenize(text)\n",
        "\n",
        "    # Remove stopwords bahasa Indonesia dan kata yang sangat pendek\n",
        "    tokens = [word for word in tokens if word not in stop_words and len(word) > 1]\n",
        "\n",
        "    # Stemming dengan Sastrawi\n",
        "    tokens = [stemmer.stem(word) for word in tokens]\n",
        "\n",
        "    # Gabungkan kembali token menjadi satu string\n",
        "    return ' '.join(tokens)\n",
        "\n",
        "# Apply pre-processing ke setiap teks dalam kolom 'text'\n",
        "# Ganti 'text' dengan nama kolom yang sesuai\n",
        "df['processed_text'] = df['review'].apply(preprocess_text)\n"
      ],
      "metadata": {
        "id": "CojQXMtRoyzo"
      },
      "execution_count": null,
      "outputs": []
    },
    {
      "cell_type": "code",
      "source": [
        "# Step 2: Bag of Words Representation\n",
        "vectorizer_bow = CountVectorizer()\n",
        "bow_matrix = vectorizer_bow.fit_transform(df['processed_text'])\n",
        "\n",
        "# Convert BoW matrix to DataFrame\n",
        "bow_df = pd.DataFrame(bow_matrix.toarray(), columns=vectorizer_bow.get_feature_names_out())\n",
        "\n",
        "print(\"\\nBag of Words Representation:\\n\", bow_df)"
      ],
      "metadata": {
        "colab": {
          "base_uri": "https://localhost:8080/"
        },
        "id": "rNma0gAirEJB",
        "outputId": "c11a9654-d09d-40d2-99e1-608e99e7842e"
      },
      "execution_count": null,
      "outputs": [
        {
          "output_type": "stream",
          "name": "stdout",
          "text": [
            "\n",
            "Bag of Words Representation:\n",
            "      00  000  100  10x  11  111  1111  12  14  16  ...  wkwk  wkwkk  working  \\\n",
            "0     0    0    0    0   0    0     0   0   0   0  ...     0      1        0   \n",
            "1     0    0    0    0   0    0     0   1   0   0  ...     0      0        0   \n",
            "2     0    0    0    0   0    0     0   0   0   0  ...     0      0        0   \n",
            "3     0    0    0    0   0    0     0   0   0   0  ...     0      0        0   \n",
            "4     0    0    0    0   0    0     0   0   0   0  ...     0      0        0   \n",
            "..   ..  ...  ...  ...  ..  ...   ...  ..  ..  ..  ...   ...    ...      ...   \n",
            "461   0    0    0    0   0    0     0   0   0   0  ...     0      0        0   \n",
            "462   0    0    0    0   0    0     0   0   0   0  ...     0      0        0   \n",
            "463   0    0    0    0   0    0     0   0   0   0  ...     0      0        0   \n",
            "464   0    0    0    0   0    0     0   0   0   0  ...     0      0        0   \n",
            "465   0    0    0    0   0    0     0   0   0   0  ...     0      0        0   \n",
            "\n",
            "     wow  ya  yaa  yah  yang  yg  yoogbsbdndnsn  \n",
            "0      0   0    0    0     0   0              0  \n",
            "1      0   1    0    0     0   0              0  \n",
            "2      0   0    0    0     0   0              0  \n",
            "3      0   0    0    0     0   0              0  \n",
            "4      0   0    0    0     0   0              0  \n",
            "..   ...  ..  ...  ...   ...  ..            ...  \n",
            "461    0   0    0    0     0   0              0  \n",
            "462    0   0    0    0     0   0              0  \n",
            "463    0   0    0    0     0   0              0  \n",
            "464    0   0    0    0     0   0              0  \n",
            "465    0   0    0    0     0   0              0  \n",
            "\n",
            "[466 rows x 927 columns]\n"
          ]
        }
      ]
    },
    {
      "cell_type": "code",
      "source": [
        "# Step 3: TF-IDF Representation\n",
        "vectorizer_tfidf = TfidfVectorizer()\n",
        "tfidf_matrix = vectorizer_tfidf.fit_transform(df['processed_text'])\n",
        "\n",
        "# Convert TF-IDF matrix to DataFrame\n",
        "tfidf_df = pd.DataFrame(tfidf_matrix.toarray(), columns=vectorizer_tfidf.get_feature_names_out())\n",
        "\n",
        "print(\"\\nTF-IDF Representation:\\n\", tfidf_df)"
      ],
      "metadata": {
        "colab": {
          "base_uri": "https://localhost:8080/"
        },
        "id": "sKdm4fVprQgT",
        "outputId": "2ba72058-9664-4fb9-fc51-d1edf62aa131"
      },
      "execution_count": null,
      "outputs": [
        {
          "output_type": "stream",
          "name": "stdout",
          "text": [
            "\n",
            "TF-IDF Representation:\n",
            "       00  000  100  10x   11  111  1111        12   14   16  ...  wkwk  \\\n",
            "0    0.0  0.0  0.0  0.0  0.0  0.0   0.0  0.000000  0.0  0.0  ...   0.0   \n",
            "1    0.0  0.0  0.0  0.0  0.0  0.0   0.0  0.220763  0.0  0.0  ...   0.0   \n",
            "2    0.0  0.0  0.0  0.0  0.0  0.0   0.0  0.000000  0.0  0.0  ...   0.0   \n",
            "3    0.0  0.0  0.0  0.0  0.0  0.0   0.0  0.000000  0.0  0.0  ...   0.0   \n",
            "4    0.0  0.0  0.0  0.0  0.0  0.0   0.0  0.000000  0.0  0.0  ...   0.0   \n",
            "..   ...  ...  ...  ...  ...  ...   ...       ...  ...  ...  ...   ...   \n",
            "461  0.0  0.0  0.0  0.0  0.0  0.0   0.0  0.000000  0.0  0.0  ...   0.0   \n",
            "462  0.0  0.0  0.0  0.0  0.0  0.0   0.0  0.000000  0.0  0.0  ...   0.0   \n",
            "463  0.0  0.0  0.0  0.0  0.0  0.0   0.0  0.000000  0.0  0.0  ...   0.0   \n",
            "464  0.0  0.0  0.0  0.0  0.0  0.0   0.0  0.000000  0.0  0.0  ...   0.0   \n",
            "465  0.0  0.0  0.0  0.0  0.0  0.0   0.0  0.000000  0.0  0.0  ...   0.0   \n",
            "\n",
            "        wkwkk  working  wow        ya  yaa  yah  yang   yg  yoogbsbdndnsn  \n",
            "0    0.439029      0.0  0.0  0.000000  0.0  0.0   0.0  0.0            0.0  \n",
            "1    0.000000      0.0  0.0  0.154193  0.0  0.0   0.0  0.0            0.0  \n",
            "2    0.000000      0.0  0.0  0.000000  0.0  0.0   0.0  0.0            0.0  \n",
            "3    0.000000      0.0  0.0  0.000000  0.0  0.0   0.0  0.0            0.0  \n",
            "4    0.000000      0.0  0.0  0.000000  0.0  0.0   0.0  0.0            0.0  \n",
            "..        ...      ...  ...       ...  ...  ...   ...  ...            ...  \n",
            "461  0.000000      0.0  0.0  0.000000  0.0  0.0   0.0  0.0            0.0  \n",
            "462  0.000000      0.0  0.0  0.000000  0.0  0.0   0.0  0.0            0.0  \n",
            "463  0.000000      0.0  0.0  0.000000  0.0  0.0   0.0  0.0            0.0  \n",
            "464  0.000000      0.0  0.0  0.000000  0.0  0.0   0.0  0.0            0.0  \n",
            "465  0.000000      0.0  0.0  0.000000  0.0  0.0   0.0  0.0            0.0  \n",
            "\n",
            "[466 rows x 927 columns]\n"
          ]
        }
      ]
    },
    {
      "cell_type": "code",
      "source": [
        "df.info()"
      ],
      "metadata": {
        "colab": {
          "base_uri": "https://localhost:8080/"
        },
        "id": "SdhR1irlrZqG",
        "outputId": "cde10ec5-8169-48bc-ecb2-25b4d8c556a8"
      },
      "execution_count": null,
      "outputs": [
        {
          "output_type": "stream",
          "name": "stdout",
          "text": [
            "<class 'pandas.core.frame.DataFrame'>\n",
            "RangeIndex: 466 entries, 0 to 465\n",
            "Data columns (total 8 columns):\n",
            " #   Column             Non-Null Count  Dtype \n",
            "---  ------             --------------  ----- \n",
            " 0   Unnamed: 0         466 non-null    int64 \n",
            " 1   date               466 non-null    object\n",
            " 2   developerResponse  112 non-null    object\n",
            " 3   review             466 non-null    object\n",
            " 4   rating             466 non-null    int64 \n",
            " 5   isEdited           466 non-null    bool  \n",
            " 6   title              466 non-null    object\n",
            " 7   processed_text     466 non-null    object\n",
            "dtypes: bool(1), int64(2), object(5)\n",
            "memory usage: 26.1+ KB\n"
          ]
        }
      ]
    }
  ]
}